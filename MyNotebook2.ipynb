{
 "cells": [
  {
   "cell_type": "markdown",
   "id": "646afb91-318b-49a7-9f5b-25711e5383b9",
   "metadata": {},
   "source": [
    "# Hello World, this is my Second Jupyter Notebook"
   ]
  },
  {
   "cell_type": "markdown",
   "id": "17d3b8e9-59b6-465d-84ee-8f13cd524c11",
   "metadata": {},
   "source": [
    "Let's Install some libraries"
   ]
  },
  {
   "cell_type": "code",
   "execution_count": null,
   "id": "56758245-e3e7-459f-aa79-4578ca258f1f",
   "metadata": {},
   "outputs": [],
   "source": [
    "!pip install matplotlib"
   ]
  },
  {
   "cell_type": "markdown",
   "id": "2086aa95-c2db-407e-809c-e669156337cf",
   "metadata": {},
   "source": [
    "Let's run some code to draw Graph"
   ]
  },
  {
   "cell_type": "code",
   "execution_count": null,
   "id": "da15e0bd-df00-40b1-907b-00e0114d3968",
   "metadata": {
    "scrolled": true
   },
   "outputs": [],
   "source": [
    "import matplotlib.pyplot as plt\n",
    "\n",
    "x = [1,4,5,10,12,14,20]\n",
    "y = [9,6,8,12,22,3,30]\n",
    "\n",
    "plt.plot(x,y)\n",
    "plt.show()"
   ]
  },
  {
   "cell_type": "markdown",
   "id": "b1c61af5-7999-465e-9a6b-db095d972d71",
   "metadata": {},
   "source": [
    "# End of my Second Jupyter Notebook!"
   ]
  },
  {
   "cell_type": "raw",
   "id": "44cd7673-59a8-4270-841d-4f3d031c6187",
   "metadata": {},
   "source": [
    "Hope you liked it :)"
   ]
  },
  {
   "cell_type": "markdown",
   "id": "4cc4d7b4-806b-46d8-9d44-d55f4216f139",
   "metadata": {},
   "source": [
    "### Copyleft (c) by Denis Astahov."
   ]
  }
 ],
 "metadata": {
  "kernelspec": {
   "display_name": "Python 3 (ipykernel)",
   "language": "python",
   "name": "python3"
  },
  "language_info": {
   "codemirror_mode": {
    "name": "ipython",
    "version": 3
   },
   "file_extension": ".py",
   "mimetype": "text/x-python",
   "name": "python",
   "nbconvert_exporter": "python",
   "pygments_lexer": "ipython3",
   "version": "3.10.12"
  }
 },
 "nbformat": 4,
 "nbformat_minor": 5
}
