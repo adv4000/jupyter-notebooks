{
 "cells": [
  {
   "cell_type": "markdown",
   "id": "48e95eab-c9ef-49b3-beae-6297d2ebff65",
   "metadata": {},
   "source": [
    "# Hello World, this is my Third Jupyter Notebook"
   ]
  },
  {
   "cell_type": "markdown",
   "id": "3d5edd31-5e64-4292-9a4b-618bc650e0c5",
   "metadata": {},
   "source": [
    "Let's Install some libraries"
   ]
  },
  {
   "cell_type": "code",
   "execution_count": 1,
   "id": "bdb263ce-e38d-4f56-b707-a00d5a7d694f",
   "metadata": {},
   "outputs": [
    {
     "name": "stdout",
     "output_type": "stream",
     "text": [
      "Defaulting to user installation because normal site-packages is not writeable\n",
      "Collecting pandas\n",
      "  Downloading pandas-2.0.3-cp310-cp310-manylinux_2_17_x86_64.manylinux2014_x86_64.whl (12.3 MB)\n",
      "\u001b[2K     \u001b[38;2;114;156;31m━━━━━━━━━━━━━━━━━━━━━━━━━━━━━━━━━━━━━━━━\u001b[0m \u001b[32m12.3/12.3 MB\u001b[0m \u001b[31m51.9 MB/s\u001b[0m eta \u001b[36m0:00:00\u001b[0mm eta \u001b[36m0:00:01\u001b[0m0:01\u001b[0m01\u001b[0m\n",
      "\u001b[?25hRequirement already satisfied: pytz>=2020.1 in /usr/lib/python3/dist-packages (from pandas) (2022.1)\n",
      "Requirement already satisfied: python-dateutil>=2.8.2 in /home/denis/.local/lib/python3.10/site-packages (from pandas) (2.8.2)\n",
      "Requirement already satisfied: numpy>=1.21.0 in /home/denis/.local/lib/python3.10/site-packages (from pandas) (1.25.2)\n",
      "Collecting tzdata>=2022.1\n",
      "  Downloading tzdata-2023.3-py2.py3-none-any.whl (341 kB)\n",
      "\u001b[2K     \u001b[38;2;114;156;31m━━━━━━━━━━━━━━━━━━━━━━━━━━━━━━━━━━━━━━\u001b[0m \u001b[32m341.8/341.8 KB\u001b[0m \u001b[31m44.9 MB/s\u001b[0m eta \u001b[36m0:00:00\u001b[0m\n",
      "\u001b[?25hRequirement already satisfied: six>=1.5 in /usr/lib/python3/dist-packages (from python-dateutil>=2.8.2->pandas) (1.16.0)\n",
      "Installing collected packages: tzdata, pandas\n",
      "Successfully installed pandas-2.0.3 tzdata-2023.3\n",
      "Defaulting to user installation because normal site-packages is not writeable\n",
      "Requirement already satisfied: matplotlib in /home/denis/.local/lib/python3.10/site-packages (3.7.2)\n",
      "Requirement already satisfied: contourpy>=1.0.1 in /home/denis/.local/lib/python3.10/site-packages (from matplotlib) (1.1.0)\n",
      "Requirement already satisfied: packaging>=20.0 in /home/denis/.local/lib/python3.10/site-packages (from matplotlib) (23.1)\n",
      "Requirement already satisfied: kiwisolver>=1.0.1 in /home/denis/.local/lib/python3.10/site-packages (from matplotlib) (1.4.4)\n",
      "Requirement already satisfied: fonttools>=4.22.0 in /home/denis/.local/lib/python3.10/site-packages (from matplotlib) (4.42.1)\n",
      "Requirement already satisfied: pyparsing<3.1,>=2.3.1 in /usr/lib/python3/dist-packages (from matplotlib) (2.4.7)\n",
      "Requirement already satisfied: numpy>=1.20 in /home/denis/.local/lib/python3.10/site-packages (from matplotlib) (1.25.2)\n",
      "Requirement already satisfied: python-dateutil>=2.7 in /home/denis/.local/lib/python3.10/site-packages (from matplotlib) (2.8.2)\n",
      "Requirement already satisfied: cycler>=0.10 in /home/denis/.local/lib/python3.10/site-packages (from matplotlib) (0.11.0)\n",
      "Requirement already satisfied: pillow>=6.2.0 in /usr/lib/python3/dist-packages (from matplotlib) (9.0.1)\n",
      "Requirement already satisfied: six>=1.5 in /usr/lib/python3/dist-packages (from python-dateutil>=2.7->matplotlib) (1.16.0)\n"
     ]
    }
   ],
   "source": [
    "!pip install pandas\n",
    "!pip install matplotlib"
   ]
  },
  {
   "cell_type": "markdown",
   "id": "34f1da44-8149-4d74-b4bc-56e18c023e81",
   "metadata": {},
   "source": [
    "Let's run some code to READ, PRINT my CSV file and then make GRAPH"
   ]
  },
  {
   "cell_type": "code",
   "execution_count": 2,
   "id": "bf26b692-ade7-4ff8-9b61-ff04eaa14fb0",
   "metadata": {},
   "outputs": [
    {
     "data": {
      "text/html": [
       "<div>\n",
       "<style scoped>\n",
       "    .dataframe tbody tr th:only-of-type {\n",
       "        vertical-align: middle;\n",
       "    }\n",
       "\n",
       "    .dataframe tbody tr th {\n",
       "        vertical-align: top;\n",
       "    }\n",
       "\n",
       "    .dataframe thead th {\n",
       "        text-align: right;\n",
       "    }\n",
       "</style>\n",
       "<table border=\"1\" class=\"dataframe\">\n",
       "  <thead>\n",
       "    <tr style=\"text-align: right;\">\n",
       "      <th></th>\n",
       "      <th>Subsribers</th>\n",
       "      <th>Days</th>\n",
       "      <th>Date</th>\n",
       "    </tr>\n",
       "  </thead>\n",
       "  <tbody>\n",
       "    <tr>\n",
       "      <th>0</th>\n",
       "      <td>10000</td>\n",
       "      <td>603</td>\n",
       "      <td>4-Apr-2018</td>\n",
       "    </tr>\n",
       "    <tr>\n",
       "      <th>1</th>\n",
       "      <td>20000</td>\n",
       "      <td>325</td>\n",
       "      <td>23-Feb-2019</td>\n",
       "    </tr>\n",
       "    <tr>\n",
       "      <th>2</th>\n",
       "      <td>30000</td>\n",
       "      <td>216</td>\n",
       "      <td>27-Sep-2019</td>\n",
       "    </tr>\n",
       "    <tr>\n",
       "      <th>3</th>\n",
       "      <td>40000</td>\n",
       "      <td>163</td>\n",
       "      <td>08-Mar-2020</td>\n",
       "    </tr>\n",
       "    <tr>\n",
       "      <th>4</th>\n",
       "      <td>50000</td>\n",
       "      <td>151</td>\n",
       "      <td>06-Aug-2020</td>\n",
       "    </tr>\n",
       "    <tr>\n",
       "      <th>5</th>\n",
       "      <td>60000</td>\n",
       "      <td>183</td>\n",
       "      <td>05-Feb-2021</td>\n",
       "    </tr>\n",
       "    <tr>\n",
       "      <th>6</th>\n",
       "      <td>70000</td>\n",
       "      <td>147</td>\n",
       "      <td>02-Jul-2021</td>\n",
       "    </tr>\n",
       "    <tr>\n",
       "      <th>7</th>\n",
       "      <td>80000</td>\n",
       "      <td>131</td>\n",
       "      <td>10-Nov-2021</td>\n",
       "    </tr>\n",
       "    <tr>\n",
       "      <th>8</th>\n",
       "      <td>90000</td>\n",
       "      <td>131</td>\n",
       "      <td>21-Mar-2022</td>\n",
       "    </tr>\n",
       "    <tr>\n",
       "      <th>9</th>\n",
       "      <td>100000</td>\n",
       "      <td>153</td>\n",
       "      <td>21-Aug-2022</td>\n",
       "    </tr>\n",
       "  </tbody>\n",
       "</table>\n",
       "</div>"
      ],
      "text/plain": [
       "   Subsribers  Days         Date\n",
       "0       10000   603   4-Apr-2018\n",
       "1       20000   325  23-Feb-2019\n",
       "2       30000   216  27-Sep-2019\n",
       "3       40000   163  08-Mar-2020\n",
       "4       50000   151  06-Aug-2020\n",
       "5       60000   183  05-Feb-2021\n",
       "6       70000   147  02-Jul-2021\n",
       "7       80000   131  10-Nov-2021\n",
       "8       90000   131  21-Mar-2022\n",
       "9      100000   153  21-Aug-2022"
      ]
     },
     "execution_count": 2,
     "metadata": {},
     "output_type": "execute_result"
    }
   ],
   "source": [
    "import pandas as pd\n",
    "mydata = pd.read_csv(\"my_samples.csv\")  # Read Data\n",
    "mydata                                  # Print Data"
   ]
  },
  {
   "cell_type": "code",
   "execution_count": 3,
   "id": "357caef0-6465-4666-8ab4-78e3571f0009",
   "metadata": {},
   "outputs": [
    {
     "data": {
      "image/png": "[encoded data removed]",
      "text/plain": [
       "<Figure size 640x480 with 1 Axes>"
      ]
     },
     "metadata": {},
     "output_type": "display_data"
    }
   ],
   "source": [
    "import matplotlib.pyplot as plt\n",
    "\n",
    "plt.xlabel(\"Subscribers\")\n",
    "plt.ylabel(\"Days to achivement\")\n",
    "plt.plot(mydata.Subsribers,mydata.Days)  # We are using only two Coliumnds from the data\n",
    "plt.show()"
   ]
  },
  {
   "cell_type": "markdown",
   "id": "8d32e340-9766-4ea8-9ec9-8d525d93f562",
   "metadata": {},
   "source": [
    "# End of my Third Jupyter Notebook!"
   ]
  },
  {
   "cell_type": "raw",
   "id": "5afef194-25b2-4b0e-8259-c3c4b52fb044",
   "metadata": {},
   "source": [
    "Here we learned how to read data from CSV file, Print it and Make Graph of two columns from the data!"
   ]
  },
  {
   "cell_type": "markdown",
   "id": "0d63088f-f42b-4f39-942d-d4b8f1d3fe6d",
   "metadata": {},
   "source": [
    "### Copyleft (c) by Denis Astahov."
   ]
  }
 ],
 "metadata": {
  "kernelspec": {
   "display_name": "Python 3 (ipykernel)",
   "language": "python",
   "name": "python3"
  },
  "language_info": {
   "codemirror_mode": {
    "name": "ipython",
    "version": 3
   },
   "file_extension": ".py",
   "mimetype": "text/x-python",
   "name": "python",
   "nbconvert_exporter": "python",
   "pygments_lexer": "ipython3",
   "version": "3.10.12"
  }
 },
 "nbformat": 4,
 "nbformat_minor": 5
}
