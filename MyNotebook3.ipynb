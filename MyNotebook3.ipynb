{
 "cells": [
  {
   "cell_type": "markdown",
   "id": "48e95eab-c9ef-49b3-beae-6297d2ebff65",
   "metadata": {},
   "source": [
    "# Hello World, this is my Third Jupyter Notebook"
   ]
  },
  {
   "cell_type": "markdown",
   "id": "3d5edd31-5e64-4292-9a4b-618bc650e0c5",
   "metadata": {},
   "source": [
    "Let's Install some libraries"
   ]
  },
  {
   "cell_type": "code",
   "execution_count": null,
   "id": "bdb263ce-e38d-4f56-b707-a00d5a7d694f",
   "metadata": {},
   "outputs": [],
   "source": [
    "!pip install pandas\n",
    "!pip install matplotlib"
   ]
  },
  {
   "cell_type": "markdown",
   "id": "34f1da44-8149-4d74-b4bc-56e18c023e81",
   "metadata": {},
   "source": [
    "Let's run some code to READ, PRINT my CSV file and then make GRAPH"
   ]
  },
  {
   "cell_type": "code",
   "execution_count": null,
   "id": "bf26b692-ade7-4ff8-9b61-ff04eaa14fb0",
   "metadata": {},
   "outputs": [],
   "source": [
    "import pandas as pd\n",
    "mydata = pd.read_csv(\"my_samples.csv\")  # Read Data\n",
    "mydata                                  # Print Data"
   ]
  },
  {
   "cell_type": "code",
   "execution_count": null,
   "id": "357caef0-6465-4666-8ab4-78e3571f0009",
   "metadata": {},
   "outputs": [],
   "source": [
    "import matplotlib.pyplot as plt\n",
    "\n",
    "plt.xlabel(\"Subscribers\")\n",
    "plt.ylabel(\"Days to achivement\")\n",
    "plt.plot(mydata.Subsribers,mydata.Days)  # We are using only two Coliumnds from the data\n",
    "plt.show()"
   ]
  },
  {
   "cell_type": "markdown",
   "id": "8d32e340-9766-4ea8-9ec9-8d525d93f562",
   "metadata": {},
   "source": [
    "# End of my Third Jupyter Notebook!"
   ]
  },
  {
   "cell_type": "raw",
   "id": "5afef194-25b2-4b0e-8259-c3c4b52fb044",
   "metadata": {},
   "source": [
    "Here we learned how to read data from CSV file, Print it and Make Graph of two columns from the data!"
   ]
  },
  {
   "cell_type": "markdown",
   "id": "0d63088f-f42b-4f39-942d-d4b8f1d3fe6d",
   "metadata": {},
   "source": [
    "### Copyleft (c) by Denis Astahov."
   ]
  }
 ],
 "metadata": {
  "kernelspec": {
   "display_name": "Python 3 (ipykernel)",
   "language": "python",
   "name": "python3"
  },
  "language_info": {
   "codemirror_mode": {
    "name": "ipython",
    "version": 3
   },
   "file_extension": ".py",
   "mimetype": "text/x-python",
   "name": "python",
   "nbconvert_exporter": "python",
   "pygments_lexer": "ipython3",
   "version": "3.10.12"
  }
 },
 "nbformat": 4,
 "nbformat_minor": 5
}
