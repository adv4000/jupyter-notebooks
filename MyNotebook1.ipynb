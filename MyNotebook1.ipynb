{
 "cells": [
  {
   "cell_type": "markdown",
   "id": "1cd704d5-bc09-4cf7-acb9-2aa6e8fa3a68",
   "metadata": {},
   "source": [
    "# Hello World, this is my first Jupyter Notebook"
   ]
  },
  {
   "cell_type": "code",
   "execution_count": null,
   "id": "03174607-efde-4210-ac7c-2fbd2a9b6752",
   "metadata": {},
   "outputs": [],
   "source": [
    "print(\"Hello World\")"
   ]
  },
  {
   "cell_type": "markdown",
   "id": "8e7c6af8-262e-4c2f-a6ba-34bfa2fe4f15",
   "metadata": {},
   "source": [
    "Let's install some libraries"
   ]
  },
  {
   "cell_type": "code",
   "execution_count": null,
   "id": "5fecb168-39be-44f8-9cc4-41e6517ccd39",
   "metadata": {},
   "outputs": [],
   "source": [
    "import time\n",
    "import json"
   ]
  },
  {
   "cell_type": "markdown",
   "id": "7b9901ab-f7bd-4e22-8f14-197e7535e75a",
   "metadata": {},
   "source": [
    "Let's run some code"
   ]
  },
  {
   "cell_type": "code",
   "execution_count": null,
   "id": "44b93160-0c1d-43a6-825a-632db0823f1f",
   "metadata": {},
   "outputs": [],
   "source": [
    "current_time = time.ctime()\n",
    "\n",
    "print(\"Current time is: \" + current_time)"
   ]
  },
  {
   "cell_type": "markdown",
   "id": "1e51b9f7-a5ba-45b1-8e53-80fff478b6dd",
   "metadata": {},
   "source": [
    "## End of my First Jupyter Notebook!"
   ]
  },
  {
   "cell_type": "raw",
   "id": "6e35d7b8-049a-440f-a8de-ce2da2ac3fb8",
   "metadata": {},
   "source": [
    "This is RAW cell line1\n",
    "This is RAW cell line2"
   ]
  }
 ],
 "metadata": {
  "kernelspec": {
   "display_name": "Python 3 (ipykernel)",
   "language": "python",
   "name": "python3"
  },
  "language_info": {
   "codemirror_mode": {
    "name": "ipython",
    "version": 3
   },
   "file_extension": ".py",
   "mimetype": "text/x-python",
   "name": "python",
   "nbconvert_exporter": "python",
   "pygments_lexer": "ipython3",
   "version": "3.10.12"
  }
 },
 "nbformat": 4,
 "nbformat_minor": 5
}
